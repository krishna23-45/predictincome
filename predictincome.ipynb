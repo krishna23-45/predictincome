{
  "nbformat": 4,
  "nbformat_minor": 0,
  "metadata": {
    "colab": {
      "name": "predictincome.ipynb",
      "provenance": [],
      "collapsed_sections": [],
      "authorship_tag": "ABX9TyMZ2IRRJnFakRgpxxlgNojp",
      "include_colab_link": true
    },
    "kernelspec": {
      "name": "python3",
      "display_name": "Python 3"
    }
  },
  "cells": [
    {
      "cell_type": "markdown",
      "metadata": {
        "id": "view-in-github",
        "colab_type": "text"
      },
      "source": [
        "<a href=\"https://colab.research.google.com/github/krishna23-45/predictincome/blob/main/predictincome.ipynb\" target=\"_parent\"><img src=\"https://colab.research.google.com/assets/colab-badge.svg\" alt=\"Open In Colab\"/></a>"
      ]
    },
    {
      "cell_type": "code",
      "metadata": {
        "id": "0MayJyPniJLr"
      },
      "source": [
        "import tensorflow as tf\n",
        "import pandas as pd\n",
        "from sklearn.model_selection import train_test_split\n"
      ],
      "execution_count": null,
      "outputs": []
    },
    {
      "cell_type": "code",
      "metadata": {
        "id": "j20NuByfiQqq",
        "colab": {
          "base_uri": "https://localhost:8080/",
          "height": 292
        },
        "outputId": "fe79239f-771f-457c-851b-132d79fa8ae3"
      },
      "source": [
        "df = pd.read_csv('data12.csv')\n",
        "df.head()\n"
      ],
      "execution_count": null,
      "outputs": [
        {
          "output_type": "execute_result",
          "data": {
            "text/html": [
              "<div>\n",
              "<style scoped>\n",
              "    .dataframe tbody tr th:only-of-type {\n",
              "        vertical-align: middle;\n",
              "    }\n",
              "\n",
              "    .dataframe tbody tr th {\n",
              "        vertical-align: top;\n",
              "    }\n",
              "\n",
              "    .dataframe thead th {\n",
              "        text-align: right;\n",
              "    }\n",
              "</style>\n",
              "<table border=\"1\" class=\"dataframe\">\n",
              "  <thead>\n",
              "    <tr style=\"text-align: right;\">\n",
              "      <th></th>\n",
              "      <th>age</th>\n",
              "      <th>workclass</th>\n",
              "      <th>education</th>\n",
              "      <th>education_num</th>\n",
              "      <th>marital_status</th>\n",
              "      <th>occupation</th>\n",
              "      <th>relationship</th>\n",
              "      <th>race</th>\n",
              "      <th>gender</th>\n",
              "      <th>capital_gain</th>\n",
              "      <th>capital_loss</th>\n",
              "      <th>hours_per_week</th>\n",
              "      <th>native_country</th>\n",
              "      <th>income_bracket</th>\n",
              "    </tr>\n",
              "  </thead>\n",
              "  <tbody>\n",
              "    <tr>\n",
              "      <th>0</th>\n",
              "      <td>39</td>\n",
              "      <td>State-gov</td>\n",
              "      <td>Bachelors</td>\n",
              "      <td>13</td>\n",
              "      <td>Never-married</td>\n",
              "      <td>Adm-clerical</td>\n",
              "      <td>Not-in-family</td>\n",
              "      <td>White</td>\n",
              "      <td>Male</td>\n",
              "      <td>2174</td>\n",
              "      <td>0</td>\n",
              "      <td>40</td>\n",
              "      <td>United-States</td>\n",
              "      <td>&lt;=50K</td>\n",
              "    </tr>\n",
              "    <tr>\n",
              "      <th>1</th>\n",
              "      <td>50</td>\n",
              "      <td>Self-emp-not-inc</td>\n",
              "      <td>Bachelors</td>\n",
              "      <td>13</td>\n",
              "      <td>Married-civ-spouse</td>\n",
              "      <td>Exec-managerial</td>\n",
              "      <td>Husband</td>\n",
              "      <td>White</td>\n",
              "      <td>Male</td>\n",
              "      <td>0</td>\n",
              "      <td>0</td>\n",
              "      <td>13</td>\n",
              "      <td>United-States</td>\n",
              "      <td>&lt;=50K</td>\n",
              "    </tr>\n",
              "    <tr>\n",
              "      <th>2</th>\n",
              "      <td>38</td>\n",
              "      <td>Private</td>\n",
              "      <td>HS-grad</td>\n",
              "      <td>9</td>\n",
              "      <td>Divorced</td>\n",
              "      <td>Handlers-cleaners</td>\n",
              "      <td>Not-in-family</td>\n",
              "      <td>White</td>\n",
              "      <td>Male</td>\n",
              "      <td>0</td>\n",
              "      <td>0</td>\n",
              "      <td>40</td>\n",
              "      <td>United-States</td>\n",
              "      <td>&lt;=50K</td>\n",
              "    </tr>\n",
              "    <tr>\n",
              "      <th>3</th>\n",
              "      <td>53</td>\n",
              "      <td>Private</td>\n",
              "      <td>11th</td>\n",
              "      <td>7</td>\n",
              "      <td>Married-civ-spouse</td>\n",
              "      <td>Handlers-cleaners</td>\n",
              "      <td>Husband</td>\n",
              "      <td>Black</td>\n",
              "      <td>Male</td>\n",
              "      <td>0</td>\n",
              "      <td>0</td>\n",
              "      <td>40</td>\n",
              "      <td>United-States</td>\n",
              "      <td>&lt;=50K</td>\n",
              "    </tr>\n",
              "    <tr>\n",
              "      <th>4</th>\n",
              "      <td>28</td>\n",
              "      <td>Private</td>\n",
              "      <td>Bachelors</td>\n",
              "      <td>13</td>\n",
              "      <td>Married-civ-spouse</td>\n",
              "      <td>Prof-specialty</td>\n",
              "      <td>Wife</td>\n",
              "      <td>Black</td>\n",
              "      <td>Female</td>\n",
              "      <td>0</td>\n",
              "      <td>0</td>\n",
              "      <td>40</td>\n",
              "      <td>Cuba</td>\n",
              "      <td>&lt;=50K</td>\n",
              "    </tr>\n",
              "  </tbody>\n",
              "</table>\n",
              "</div>"
            ],
            "text/plain": [
              "   age          workclass  ...  native_country  income_bracket\n",
              "0   39          State-gov  ...   United-States           <=50K\n",
              "1   50   Self-emp-not-inc  ...   United-States           <=50K\n",
              "2   38            Private  ...   United-States           <=50K\n",
              "3   53            Private  ...   United-States           <=50K\n",
              "4   28            Private  ...            Cuba           <=50K\n",
              "\n",
              "[5 rows x 14 columns]"
            ]
          },
          "metadata": {
            "tags": []
          },
          "execution_count": 13
        }
      ]
    },
    {
      "cell_type": "code",
      "metadata": {
        "id": "PELWSg_VrcXZ"
      },
      "source": [
        "def lable_fix(label):\n",
        "    if label == ' <=50K':\n",
        "        return 0\n",
        "    else:\n",
        "        return 1"
      ],
      "execution_count": null,
      "outputs": []
    },
    {
      "cell_type": "code",
      "metadata": {
        "id": "aTA3ieCzrj7A"
      },
      "source": [
        "df['income_bracket'] = df['income_bracket'].apply(lable_fix)"
      ],
      "execution_count": null,
      "outputs": []
    },
    {
      "cell_type": "code",
      "metadata": {
        "id": "nkVLciKJp4-r"
      },
      "source": [
        "x_data = df.drop('income_bracket' , axis = 1)\n",
        "y_lables = df['income_bracket']\n",
        "x_train, x_test, y_train, y_test = train_test_split(x_data, y_lables, test_size=0.3, random_state=101)"
      ],
      "execution_count": null,
      "outputs": []
    },
    {
      "cell_type": "code",
      "metadata": {
        "id": "-5M-vxRNsGsG",
        "colab": {
          "base_uri": "https://localhost:8080/",
          "height": 85
        },
        "outputId": "f66c9e40-bc8d-4378-ea55-90c72bfbea92"
      },
      "source": [
        "df.columns\n"
      ],
      "execution_count": null,
      "outputs": [
        {
          "output_type": "execute_result",
          "data": {
            "text/plain": [
              "Index(['age', 'workclass', 'education', 'education_num', 'marital_status',\n",
              "       'occupation', 'relationship', 'race', 'gender', 'capital_gain',\n",
              "       'capital_loss', 'hours_per_week', 'native_country', 'income_bracket'],\n",
              "      dtype='object')"
            ]
          },
          "metadata": {
            "tags": []
          },
          "execution_count": 27
        }
      ]
    },
    {
      "cell_type": "code",
      "metadata": {
        "id": "qCdlhix1sOvn"
      },
      "source": [
        "gender = tf.feature_column.categorical_column_with_vocabulary_list(\"gender\" , [\"Female\", \"Male\"])\n",
        "occupation = tf.feature_column.categorical_column_with_hash_bucket(\"occupation\" , hash_bucket_size=1000)\n",
        "marital_status = tf.feature_column.categorical_column_with_hash_bucket(\"marital_status\" , hash_bucket_size=1000)\n",
        "relationship = tf.feature_column.categorical_column_with_hash_bucket(\"relationship\", hash_bucket_size=1000)\n",
        "education = tf.feature_column.categorical_column_with_hash_bucket(\"education\" ,hash_bucket_size=1000)\n",
        "workclass = tf.feature_column.categorical_column_with_hash_bucket(\"workclass\", hash_bucket_size=1000)\n",
        "native_country = tf.feature_column.categorical_column_with_hash_bucket(\"native_country\", hash_bucket_size=1000)"
      ],
      "execution_count": null,
      "outputs": []
    },
    {
      "cell_type": "code",
      "metadata": {
        "id": "0L36o9SJspc-"
      },
      "source": [
        "age = tf.feature_column.numeric_column(\"age\")\n",
        "education_num = tf.feature_column.numeric_column(\"education_num\")\n",
        "capital_gain = tf.feature_column.numeric_column(\"capital_gain\")\n",
        "capital_loss = tf.feature_column.numeric_column(\"capital_loss\")\n",
        "hours_per_week = tf.feature_column.numeric_column(\"hours_per_week\")"
      ],
      "execution_count": null,
      "outputs": []
    },
    {
      "cell_type": "code",
      "metadata": {
        "id": "wI882NZptvq4"
      },
      "source": [
        "age = tf.feature_column.numeric_column(\"age\")\n",
        "education_num = tf.feature_column.numeric_column(\"education_num\")\n",
        "capital_gain = tf.feature_column.numeric_column(\"capital_gain\")\n",
        "capital_loss = tf.feature_column.numeric_column(\"capital_loss\")\n",
        "hours_per_week = tf.feature_column.numeric_column(\"hours_per_week\")"
      ],
      "execution_count": null,
      "outputs": []
    },
    {
      "cell_type": "code",
      "metadata": {
        "id": "PncJyFhOtwQW"
      },
      "source": [
        "\n",
        "feat_cols = [gender, occupation, marital_status, relationship, education, workclass, native_country, age, education_num, \n",
        "             capital_gain, capital_loss, hours_per_week]"
      ],
      "execution_count": null,
      "outputs": []
    },
    {
      "cell_type": "code",
      "metadata": {
        "id": "pymJF9lzt2n1",
        "colab": {
          "base_uri": "https://localhost:8080/",
          "height": 34
        },
        "outputId": "8f39c17c-20bf-4614-f05a-ca38aabe93e7"
      },
      "source": [
        "\n",
        "input_func =tf.compat.v1.estimator.inputs.pandas_input_fn(x=x_train, y=y_train, batch_size=100, num_epochs=None, shuffle=True)\n",
        "input_func"
      ],
      "execution_count": null,
      "outputs": [
        {
          "output_type": "execute_result",
          "data": {
            "text/plain": [
              "<function tensorflow_estimator.python.estimator.inputs.pandas_io.pandas_input_fn.<locals>.input_fn>"
            ]
          },
          "metadata": {
            "tags": []
          },
          "execution_count": 34
        }
      ]
    },
    {
      "cell_type": "code",
      "metadata": {
        "id": "azNKu24MuP8Z",
        "colab": {
          "base_uri": "https://localhost:8080/",
          "height": 1000
        },
        "outputId": "1d545891-6bd7-4ccf-983e-67807e3339e1"
      },
      "source": [
        "\n",
        "model = tf.estimator.LinearClassifier(feature_columns=feat_cols)\n",
        "model.train(input_fn=input_func, steps=5000)"
      ],
      "execution_count": null,
      "outputs": [
        {
          "output_type": "stream",
          "text": [
            "INFO:tensorflow:Using default config.\n",
            "WARNING:tensorflow:Using temporary folder as model directory: /tmp/tmpw0tlpikv\n",
            "INFO:tensorflow:Using config: {'_model_dir': '/tmp/tmpw0tlpikv', '_tf_random_seed': None, '_save_summary_steps': 100, '_save_checkpoints_steps': None, '_save_checkpoints_secs': 600, '_session_config': allow_soft_placement: true\n",
            "graph_options {\n",
            "  rewrite_options {\n",
            "    meta_optimizer_iterations: ONE\n",
            "  }\n",
            "}\n",
            ", '_keep_checkpoint_max': 5, '_keep_checkpoint_every_n_hours': 10000, '_log_step_count_steps': 100, '_train_distribute': None, '_device_fn': None, '_protocol': None, '_eval_distribute': None, '_experimental_distribute': None, '_experimental_max_worker_delay_secs': None, '_session_creation_timeout_secs': 7200, '_service': None, '_cluster_spec': ClusterSpec({}), '_task_type': 'worker', '_task_id': 0, '_global_id_in_cluster': 0, '_master': '', '_evaluation_master': '', '_is_chief': True, '_num_ps_replicas': 0, '_num_worker_replicas': 1}\n",
            "WARNING:tensorflow:From /usr/local/lib/python3.6/dist-packages/tensorflow/python/training/training_util.py:236: Variable.initialized_value (from tensorflow.python.ops.variables) is deprecated and will be removed in a future version.\n",
            "Instructions for updating:\n",
            "Use Variable.read_value. Variables in 2.X are initialized automatically both in eager and graph (inside tf.defun) contexts.\n",
            "WARNING:tensorflow:From /usr/local/lib/python3.6/dist-packages/tensorflow_estimator/python/estimator/inputs/queues/feeding_queue_runner.py:65: QueueRunner.__init__ (from tensorflow.python.training.queue_runner_impl) is deprecated and will be removed in a future version.\n",
            "Instructions for updating:\n",
            "To construct input pipelines, use the `tf.data` module.\n",
            "WARNING:tensorflow:From /usr/local/lib/python3.6/dist-packages/tensorflow_estimator/python/estimator/inputs/queues/feeding_functions.py:491: add_queue_runner (from tensorflow.python.training.queue_runner_impl) is deprecated and will be removed in a future version.\n",
            "Instructions for updating:\n",
            "To construct input pipelines, use the `tf.data` module.\n",
            "INFO:tensorflow:Calling model_fn.\n",
            "WARNING:tensorflow:From /usr/local/lib/python3.6/dist-packages/tensorflow_estimator/python/estimator/canned/linear.py:1481: Layer.add_variable (from tensorflow.python.keras.engine.base_layer_v1) is deprecated and will be removed in a future version.\n",
            "Instructions for updating:\n",
            "Please use `layer.add_weight` method instead.\n",
            "WARNING:tensorflow:From /usr/local/lib/python3.6/dist-packages/tensorflow/python/keras/optimizer_v2/ftrl.py:112: calling Constant.__init__ (from tensorflow.python.ops.init_ops) with dtype is deprecated and will be removed in a future version.\n",
            "Instructions for updating:\n",
            "Call initializer instance with the dtype argument instead of passing it to the constructor\n",
            "INFO:tensorflow:Done calling model_fn.\n",
            "INFO:tensorflow:Create CheckpointSaverHook.\n",
            "INFO:tensorflow:Graph was finalized.\n",
            "INFO:tensorflow:Running local_init_op.\n",
            "INFO:tensorflow:Done running local_init_op.\n",
            "WARNING:tensorflow:From /usr/local/lib/python3.6/dist-packages/tensorflow/python/training/monitored_session.py:906: start_queue_runners (from tensorflow.python.training.queue_runner_impl) is deprecated and will be removed in a future version.\n",
            "Instructions for updating:\n",
            "To construct input pipelines, use the `tf.data` module.\n",
            "INFO:tensorflow:Calling checkpoint listeners before saving checkpoint 0...\n",
            "INFO:tensorflow:Saving checkpoints for 0 into /tmp/tmpw0tlpikv/model.ckpt.\n",
            "INFO:tensorflow:Calling checkpoint listeners after saving checkpoint 0...\n",
            "INFO:tensorflow:loss = 0.6931472, step = 0\n",
            "INFO:tensorflow:global_step/sec: 282.086\n",
            "INFO:tensorflow:loss = 1.0270387, step = 100 (0.358 sec)\n",
            "INFO:tensorflow:global_step/sec: 395.124\n",
            "INFO:tensorflow:loss = 8.332122, step = 200 (0.253 sec)\n",
            "INFO:tensorflow:global_step/sec: 405.805\n",
            "INFO:tensorflow:loss = 0.51211834, step = 300 (0.246 sec)\n",
            "INFO:tensorflow:global_step/sec: 390.406\n",
            "INFO:tensorflow:loss = 8.157816, step = 400 (0.258 sec)\n",
            "INFO:tensorflow:global_step/sec: 359.313\n",
            "INFO:tensorflow:loss = 2.4230652, step = 500 (0.275 sec)\n",
            "INFO:tensorflow:global_step/sec: 392.624\n",
            "INFO:tensorflow:loss = 2.220577, step = 600 (0.257 sec)\n",
            "INFO:tensorflow:global_step/sec: 417.643\n",
            "INFO:tensorflow:loss = 2.018616, step = 700 (0.237 sec)\n",
            "INFO:tensorflow:global_step/sec: 389.26\n",
            "INFO:tensorflow:loss = 0.6679355, step = 800 (0.256 sec)\n",
            "INFO:tensorflow:global_step/sec: 392.757\n",
            "INFO:tensorflow:loss = 0.5392591, step = 900 (0.254 sec)\n",
            "INFO:tensorflow:global_step/sec: 382.69\n",
            "INFO:tensorflow:loss = 2.830941, step = 1000 (0.261 sec)\n",
            "INFO:tensorflow:global_step/sec: 332.055\n",
            "INFO:tensorflow:loss = 1.9883658, step = 1100 (0.301 sec)\n",
            "INFO:tensorflow:global_step/sec: 362.532\n",
            "INFO:tensorflow:loss = 3.911412, step = 1200 (0.276 sec)\n",
            "INFO:tensorflow:global_step/sec: 384.855\n",
            "INFO:tensorflow:loss = 2.1269572, step = 1300 (0.262 sec)\n",
            "INFO:tensorflow:global_step/sec: 390.693\n",
            "INFO:tensorflow:loss = 2.0509336, step = 1400 (0.256 sec)\n",
            "INFO:tensorflow:global_step/sec: 320.003\n",
            "INFO:tensorflow:loss = 0.47051316, step = 1500 (0.312 sec)\n",
            "INFO:tensorflow:global_step/sec: 340.858\n",
            "INFO:tensorflow:loss = 0.6965526, step = 1600 (0.294 sec)\n",
            "INFO:tensorflow:global_step/sec: 364.158\n",
            "INFO:tensorflow:loss = 0.35703057, step = 1700 (0.276 sec)\n",
            "INFO:tensorflow:global_step/sec: 404.573\n",
            "INFO:tensorflow:loss = 1.4656748, step = 1800 (0.245 sec)\n",
            "INFO:tensorflow:global_step/sec: 348.619\n",
            "INFO:tensorflow:loss = 0.9644652, step = 1900 (0.288 sec)\n",
            "INFO:tensorflow:global_step/sec: 371.268\n",
            "INFO:tensorflow:loss = 0.47512567, step = 2000 (0.268 sec)\n",
            "INFO:tensorflow:global_step/sec: 332.959\n",
            "INFO:tensorflow:loss = 0.45528823, step = 2100 (0.303 sec)\n",
            "INFO:tensorflow:global_step/sec: 396.829\n",
            "INFO:tensorflow:loss = 0.69514376, step = 2200 (0.252 sec)\n",
            "INFO:tensorflow:global_step/sec: 341.73\n",
            "INFO:tensorflow:loss = 0.94987845, step = 2300 (0.290 sec)\n",
            "INFO:tensorflow:global_step/sec: 322.027\n",
            "INFO:tensorflow:loss = 4.030585, step = 2400 (0.314 sec)\n",
            "INFO:tensorflow:global_step/sec: 406.257\n",
            "INFO:tensorflow:loss = 0.28811502, step = 2500 (0.244 sec)\n",
            "INFO:tensorflow:global_step/sec: 389.501\n",
            "INFO:tensorflow:loss = 1.3353021, step = 2600 (0.256 sec)\n",
            "INFO:tensorflow:global_step/sec: 332.453\n",
            "INFO:tensorflow:loss = 0.371588, step = 2700 (0.303 sec)\n",
            "INFO:tensorflow:global_step/sec: 312.619\n",
            "INFO:tensorflow:loss = 0.67578506, step = 2800 (0.327 sec)\n",
            "INFO:tensorflow:global_step/sec: 297.293\n",
            "INFO:tensorflow:loss = 2.5520058, step = 2900 (0.330 sec)\n",
            "INFO:tensorflow:global_step/sec: 385.712\n",
            "INFO:tensorflow:loss = 0.47772998, step = 3000 (0.259 sec)\n",
            "INFO:tensorflow:global_step/sec: 390.236\n",
            "INFO:tensorflow:loss = 0.47885406, step = 3100 (0.256 sec)\n",
            "INFO:tensorflow:global_step/sec: 379.966\n",
            "INFO:tensorflow:loss = 0.2801741, step = 3200 (0.262 sec)\n",
            "INFO:tensorflow:global_step/sec: 318.238\n",
            "INFO:tensorflow:loss = 1.0986869, step = 3300 (0.316 sec)\n",
            "INFO:tensorflow:global_step/sec: 381.212\n",
            "INFO:tensorflow:loss = 0.5080745, step = 3400 (0.263 sec)\n",
            "INFO:tensorflow:global_step/sec: 411.693\n",
            "INFO:tensorflow:loss = 1.8184325, step = 3500 (0.243 sec)\n",
            "INFO:tensorflow:global_step/sec: 410.591\n",
            "INFO:tensorflow:loss = 0.33826014, step = 3600 (0.241 sec)\n",
            "INFO:tensorflow:global_step/sec: 360.271\n",
            "INFO:tensorflow:loss = 0.34193528, step = 3700 (0.278 sec)\n",
            "INFO:tensorflow:global_step/sec: 354.972\n",
            "INFO:tensorflow:loss = 0.33618793, step = 3800 (0.281 sec)\n",
            "INFO:tensorflow:global_step/sec: 356.522\n",
            "INFO:tensorflow:loss = 0.23738952, step = 3900 (0.280 sec)\n",
            "INFO:tensorflow:global_step/sec: 354.524\n",
            "INFO:tensorflow:loss = 0.79394114, step = 4000 (0.285 sec)\n",
            "WARNING:tensorflow:It seems that global step (tf.train.get_global_step) has not been increased. Current value (could be stable): 4050 vs previous value: 4050. You could increase the global step by passing tf.train.get_global_step() to Optimizer.apply_gradients or Optimizer.minimize.\n",
            "INFO:tensorflow:global_step/sec: 375.796\n",
            "INFO:tensorflow:loss = 0.32027137, step = 4100 (0.266 sec)\n",
            "INFO:tensorflow:global_step/sec: 409.756\n",
            "INFO:tensorflow:loss = 0.6845919, step = 4200 (0.244 sec)\n",
            "INFO:tensorflow:global_step/sec: 377.582\n",
            "INFO:tensorflow:loss = 0.43832693, step = 4300 (0.266 sec)\n",
            "INFO:tensorflow:global_step/sec: 342.272\n",
            "INFO:tensorflow:loss = 0.28704795, step = 4400 (0.289 sec)\n",
            "INFO:tensorflow:global_step/sec: 325.631\n",
            "INFO:tensorflow:loss = 0.25237536, step = 4500 (0.310 sec)\n",
            "INFO:tensorflow:global_step/sec: 341.173\n",
            "INFO:tensorflow:loss = 1.4460237, step = 4600 (0.294 sec)\n",
            "INFO:tensorflow:global_step/sec: 403.725\n",
            "INFO:tensorflow:loss = 1.1483474, step = 4700 (0.245 sec)\n",
            "INFO:tensorflow:global_step/sec: 364.18\n",
            "INFO:tensorflow:loss = 1.4653931, step = 4800 (0.277 sec)\n",
            "INFO:tensorflow:global_step/sec: 405.921\n",
            "INFO:tensorflow:loss = 0.22809158, step = 4900 (0.248 sec)\n",
            "INFO:tensorflow:Calling checkpoint listeners before saving checkpoint 5000...\n",
            "INFO:tensorflow:Saving checkpoints for 5000 into /tmp/tmpw0tlpikv/model.ckpt.\n",
            "INFO:tensorflow:Calling checkpoint listeners after saving checkpoint 5000...\n",
            "INFO:tensorflow:Loss for final step: 1.0300658.\n"
          ],
          "name": "stdout"
        },
        {
          "output_type": "execute_result",
          "data": {
            "text/plain": [
              "<tensorflow_estimator.python.estimator.canned.linear.LinearClassifierV2 at 0x7fc6272e5da0>"
            ]
          },
          "metadata": {
            "tags": []
          },
          "execution_count": 36
        }
      ]
    },
    {
      "cell_type": "code",
      "metadata": {
        "id": "c3yg38swuUUe"
      },
      "source": [
        "pred_fn = tf.compat.v1.estimator.inputs.pandas_input_fn(x=x_test, batch_size=len(x_train), shuffle=False)"
      ],
      "execution_count": null,
      "outputs": []
    },
    {
      "cell_type": "code",
      "metadata": {
        "id": "eXlfDeI5uyP-",
        "colab": {
          "base_uri": "https://localhost:8080/",
          "height": 119
        },
        "outputId": "fe01f7ee-e6d7-4722-9e4d-33d39fd454be"
      },
      "source": [
        "predictions = list(model.predict(input_fn=pred_fn))"
      ],
      "execution_count": null,
      "outputs": [
        {
          "output_type": "stream",
          "text": [
            "INFO:tensorflow:Calling model_fn.\n",
            "INFO:tensorflow:Done calling model_fn.\n",
            "INFO:tensorflow:Graph was finalized.\n",
            "INFO:tensorflow:Restoring parameters from /tmp/tmpw0tlpikv/model.ckpt-5000\n",
            "INFO:tensorflow:Running local_init_op.\n",
            "INFO:tensorflow:Done running local_init_op.\n"
          ],
          "name": "stdout"
        }
      ]
    },
    {
      "cell_type": "code",
      "metadata": {
        "id": "p_v1VA_au2Xm",
        "colab": {
          "base_uri": "https://localhost:8080/",
          "height": 136
        },
        "outputId": "de7f634d-2693-4af3-f506-5f4795ed735f"
      },
      "source": [
        "predictions[0]"
      ],
      "execution_count": null,
      "outputs": [
        {
          "output_type": "execute_result",
          "data": {
            "text/plain": [
              "{'all_class_ids': array([0, 1], dtype=int32),\n",
              " 'all_classes': array([b'0', b'1'], dtype=object),\n",
              " 'class_ids': array([0]),\n",
              " 'classes': array([b'0'], dtype=object),\n",
              " 'logistic': array([0.27051613], dtype=float32),\n",
              " 'logits': array([-0.99200547], dtype=float32),\n",
              " 'probabilities': array([0.7294839 , 0.27051616], dtype=float32)}"
            ]
          },
          "metadata": {
            "tags": []
          },
          "execution_count": 39
        }
      ]
    },
    {
      "cell_type": "code",
      "metadata": {
        "id": "eqLJ-Tp1u5-s"
      },
      "source": [
        "\n",
        "final_preds = []\n",
        "for pred in predictions:\n",
        "    final_preds.append(pred['class_ids'][0])"
      ],
      "execution_count": null,
      "outputs": []
    },
    {
      "cell_type": "code",
      "metadata": {
        "id": "Jb2vfqUhu7NW",
        "colab": {
          "base_uri": "https://localhost:8080/",
          "height": 34
        },
        "outputId": "1bce4d74-b21d-47a0-dae7-484e801f9563"
      },
      "source": [
        "\n",
        "final_preds[:10]"
      ],
      "execution_count": null,
      "outputs": [
        {
          "output_type": "execute_result",
          "data": {
            "text/plain": [
              "[0, 0, 0, 0, 1, 0, 0, 0, 0, 0]"
            ]
          },
          "metadata": {
            "tags": []
          },
          "execution_count": 41
        }
      ]
    },
    {
      "cell_type": "code",
      "metadata": {
        "id": "Qi6ag0mMvBMx"
      },
      "source": [
        "from sklearn.metrics import classification_report"
      ],
      "execution_count": null,
      "outputs": []
    },
    {
      "cell_type": "code",
      "metadata": {
        "id": "x5FUq_bvvDc-",
        "colab": {
          "base_uri": "https://localhost:8080/",
          "height": 170
        },
        "outputId": "5f89e9b5-3a33-4930-e981-fcd302ca0cea"
      },
      "source": [
        "print(classification_report(y_test, final_preds))"
      ],
      "execution_count": null,
      "outputs": [
        {
          "output_type": "stream",
          "text": [
            "              precision    recall  f1-score   support\n",
            "\n",
            "           0       0.90      0.88      0.89      7436\n",
            "           1       0.64      0.68      0.66      2333\n",
            "\n",
            "    accuracy                           0.83      9769\n",
            "   macro avg       0.77      0.78      0.77      9769\n",
            "weighted avg       0.84      0.83      0.83      9769\n",
            "\n"
          ],
          "name": "stdout"
        }
      ]
    }
  ]
}